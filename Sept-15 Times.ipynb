{
 "cells": [
  {
   "cell_type": "code",
   "execution_count": 10,
   "metadata": {},
   "outputs": [],
   "source": [
    "import pandas as pd\n",
    "import seaborn as sns\n",
    "import numpy as np\n",
    "import matplotlib.pyplot as plt\n",
    "import time\n",
    "%matplotlib inline"
   ]
  },
  {
   "cell_type": "code",
   "execution_count": 11,
   "metadata": {},
   "outputs": [
    {
     "name": "stdout",
     "output_type": "stream",
     "text": [
      "Enter location of dataset: ./main.csv\n"
     ]
    }
   ],
   "source": [
    "df = pd.read_csv(input('Enter location of dataset: '))"
   ]
  },
  {
   "cell_type": "code",
   "execution_count": 15,
   "metadata": {},
   "outputs": [
    {
     "name": "stdout",
     "output_type": "stream",
     "text": [
      "\n",
      "For each column, type \"i\" or \"I\" for input, and \"o\" or \"O\" for output. You can type anything else for other types of columns.\n",
      "\n",
      "Time a\n",
      "Day_Of_Year i\n",
      "TT_16 i\n",
      "PYNM_02 i\n",
      "TT_11 i\n",
      "FT_02 i\n",
      "Wind_Velocity i\n",
      "HG_ARRAY_02 o\n",
      "[-1, 0, 0, 0, 0, 0, 0, 1]\n"
     ]
    }
   ],
   "source": [
    "io = []\n",
    "print('\\nFor each column, type \\\"i\\\" or \\\"I\\\" for input, and \\\"o\\\" or \\\"O\\\" for output. You can type anything else for other types of columns.\\n')\n",
    "for col in df.columns:\n",
    "    print(col, end = ' ')\n",
    "    c = input()\n",
    "    if c == 'I' or c == 'i':\n",
    "        io += [0]\n",
    "    elif c == 'O' or c == 'o':\n",
    "        io += [1]\n",
    "    else:\n",
    "        io += [-1]\n",
    "print(io)"
   ]
  },
  {
   "cell_type": "code",
   "execution_count": 9,
   "metadata": {},
   "outputs": [],
   "source": [
    "# encoding"
   ]
  },
  {
   "cell_type": "code",
   "execution_count": 16,
   "metadata": {},
   "outputs": [],
   "source": [
    "# data preprocessing"
   ]
  }
 ],
 "metadata": {
  "kernelspec": {
   "display_name": "Python 3",
   "language": "python",
   "name": "python3"
  },
  "language_info": {
   "codemirror_mode": {
    "name": "ipython",
    "version": 3
   },
   "file_extension": ".py",
   "mimetype": "text/x-python",
   "name": "python",
   "nbconvert_exporter": "python",
   "pygments_lexer": "ipython3",
   "version": "3.6.9"
  }
 },
 "nbformat": 4,
 "nbformat_minor": 2
}
