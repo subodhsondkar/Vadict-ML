{
 "cells": [
  {
   "cell_type": "code",
   "execution_count": 1,
   "metadata": {},
   "outputs": [],
   "source": [
    "import pandas as pd\n",
    "import seaborn as sns\n",
    "import numpy as np\n",
    "import matplotlib.pyplot as plt\n",
    "import time\n",
    "%matplotlib inline"
   ]
  },
  {
   "cell_type": "markdown",
   "metadata": {},
   "source": [
    "# Importing data"
   ]
  },
  {
   "cell_type": "code",
   "execution_count": 2,
   "metadata": {
    "scrolled": true
   },
   "outputs": [
    {
     "name": "stdout",
     "output_type": "stream",
     "text": [
      "<class 'pandas.core.frame.DataFrame'>\n",
      "RangeIndex: 380 entries, 0 to 379\n",
      "Data columns (total 8 columns):\n",
      "Time             380 non-null datetime64[ns]\n",
      "Day_Of_Year      380 non-null int64\n",
      "TT_16            320 non-null float64\n",
      "PYNM_02          281 non-null float64\n",
      "TT_11            346 non-null float64\n",
      "FT_02            317 non-null float64\n",
      "Wind_Velocity    141 non-null float64\n",
      "HG_ARRAY_02      317 non-null float64\n",
      "dtypes: datetime64[ns](1), float64(6), int64(1)\n",
      "memory usage: 23.8 KB\n",
      "None \n",
      "\n",
      "Shape: (380, 8)\n"
     ]
    },
    {
     "data": {
      "text/html": [
       "<div>\n",
       "<style scoped>\n",
       "    .dataframe tbody tr th:only-of-type {\n",
       "        vertical-align: middle;\n",
       "    }\n",
       "\n",
       "    .dataframe tbody tr th {\n",
       "        vertical-align: top;\n",
       "    }\n",
       "\n",
       "    .dataframe thead th {\n",
       "        text-align: right;\n",
       "    }\n",
       "</style>\n",
       "<table border=\"1\" class=\"dataframe\">\n",
       "  <thead>\n",
       "    <tr style=\"text-align: right;\">\n",
       "      <th></th>\n",
       "      <th>Day_Of_Year</th>\n",
       "      <th>TT_16</th>\n",
       "      <th>PYNM_02</th>\n",
       "      <th>TT_11</th>\n",
       "      <th>FT_02</th>\n",
       "      <th>Wind_Velocity</th>\n",
       "      <th>HG_ARRAY_02</th>\n",
       "    </tr>\n",
       "  </thead>\n",
       "  <tbody>\n",
       "    <tr>\n",
       "      <th>count</th>\n",
       "      <td>380.000000</td>\n",
       "      <td>320.000000</td>\n",
       "      <td>281.000000</td>\n",
       "      <td>346.000000</td>\n",
       "      <td>317.000000</td>\n",
       "      <td>141.000000</td>\n",
       "      <td>317.000000</td>\n",
       "    </tr>\n",
       "    <tr>\n",
       "      <th>mean</th>\n",
       "      <td>186.039474</td>\n",
       "      <td>36.974279</td>\n",
       "      <td>207.002671</td>\n",
       "      <td>44.318522</td>\n",
       "      <td>16.284703</td>\n",
       "      <td>6.334623</td>\n",
       "      <td>2406.423130</td>\n",
       "    </tr>\n",
       "    <tr>\n",
       "      <th>std</th>\n",
       "      <td>104.489391</td>\n",
       "      <td>7.447439</td>\n",
       "      <td>109.232638</td>\n",
       "      <td>8.440823</td>\n",
       "      <td>5.683094</td>\n",
       "      <td>6.370754</td>\n",
       "      <td>988.790052</td>\n",
       "    </tr>\n",
       "    <tr>\n",
       "      <th>min</th>\n",
       "      <td>1.000000</td>\n",
       "      <td>10.228881</td>\n",
       "      <td>0.369346</td>\n",
       "      <td>13.459877</td>\n",
       "      <td>0.001083</td>\n",
       "      <td>2.846667</td>\n",
       "      <td>0.059000</td>\n",
       "    </tr>\n",
       "    <tr>\n",
       "      <th>25%</th>\n",
       "      <td>95.750000</td>\n",
       "      <td>32.612818</td>\n",
       "      <td>121.771422</td>\n",
       "      <td>39.107805</td>\n",
       "      <td>18.545000</td>\n",
       "      <td>3.897917</td>\n",
       "      <td>2051.504053</td>\n",
       "    </tr>\n",
       "    <tr>\n",
       "      <th>50%</th>\n",
       "      <td>190.500000</td>\n",
       "      <td>38.562039</td>\n",
       "      <td>192.711513</td>\n",
       "      <td>45.577744</td>\n",
       "      <td>18.808374</td>\n",
       "      <td>4.889875</td>\n",
       "      <td>2702.602761</td>\n",
       "    </tr>\n",
       "    <tr>\n",
       "      <th>75%</th>\n",
       "      <td>270.250000</td>\n",
       "      <td>42.333324</td>\n",
       "      <td>300.745522</td>\n",
       "      <td>50.011727</td>\n",
       "      <td>18.875271</td>\n",
       "      <td>6.183125</td>\n",
       "      <td>3142.004482</td>\n",
       "    </tr>\n",
       "    <tr>\n",
       "      <th>max</th>\n",
       "      <td>365.000000</td>\n",
       "      <td>59.021930</td>\n",
       "      <td>572.164179</td>\n",
       "      <td>71.519737</td>\n",
       "      <td>19.289717</td>\n",
       "      <td>35.841667</td>\n",
       "      <td>4396.358658</td>\n",
       "    </tr>\n",
       "  </tbody>\n",
       "</table>\n",
       "</div>"
      ],
      "text/plain": [
       "       Day_Of_Year       TT_16     PYNM_02       TT_11       FT_02  \\\n",
       "count   380.000000  320.000000  281.000000  346.000000  317.000000   \n",
       "mean    186.039474   36.974279  207.002671   44.318522   16.284703   \n",
       "std     104.489391    7.447439  109.232638    8.440823    5.683094   \n",
       "min       1.000000   10.228881    0.369346   13.459877    0.001083   \n",
       "25%      95.750000   32.612818  121.771422   39.107805   18.545000   \n",
       "50%     190.500000   38.562039  192.711513   45.577744   18.808374   \n",
       "75%     270.250000   42.333324  300.745522   50.011727   18.875271   \n",
       "max     365.000000   59.021930  572.164179   71.519737   19.289717   \n",
       "\n",
       "       Wind_Velocity  HG_ARRAY_02  \n",
       "count     141.000000   317.000000  \n",
       "mean        6.334623  2406.423130  \n",
       "std         6.370754   988.790052  \n",
       "min         2.846667     0.059000  \n",
       "25%         3.897917  2051.504053  \n",
       "50%         4.889875  2702.602761  \n",
       "75%         6.183125  3142.004482  \n",
       "max        35.841667  4396.358658  "
      ]
     },
     "execution_count": 2,
     "metadata": {},
     "output_type": "execute_result"
    }
   ],
   "source": [
    "df = pd.read_csv('./main.csv')\n",
    "'''\n",
    "TT_16: temp sensor\n",
    "PYNM_02: temp sensor\n",
    "TT_11: temp sensor\n",
    "FT_02: flow meter sensor\n",
    "Wind_Velocity: wind velocity sensor\n",
    "HG_ARRAY_02: output\n",
    "'''\n",
    "df['Time'] = pd.to_datetime(df['Time'])\n",
    "print(df.info(), '\\n')\n",
    "print('Shape:', df.shape)\n",
    "df.describe()"
   ]
  },
  {
   "cell_type": "markdown",
   "metadata": {},
   "source": [
    "# Plots with raw data"
   ]
  },
  {
   "cell_type": "code",
   "execution_count": null,
   "metadata": {
    "scrolled": true
   },
   "outputs": [],
   "source": [
    "df.loc[:, 'TT_16':].plot(kind = 'box', subplots = True, figsize = (20, 8))"
   ]
  },
  {
   "cell_type": "code",
   "execution_count": null,
   "metadata": {
    "scrolled": true
   },
   "outputs": [],
   "source": [
    "sns.set_style(\"darkgrid\")\n",
    "sns.pairplot(df, hue = None, kind = \"scatter\")\n",
    "plt.show()"
   ]
  },
  {
   "cell_type": "markdown",
   "metadata": {},
   "source": [
    "# Data cleaning and analysing"
   ]
  },
  {
   "cell_type": "code",
   "execution_count": 3,
   "metadata": {
    "scrolled": true
   },
   "outputs": [
    {
     "name": "stdout",
     "output_type": "stream",
     "text": [
      "Shape: (282, 8)\n"
     ]
    },
    {
     "data": {
      "text/html": [
       "<div>\n",
       "<style scoped>\n",
       "    .dataframe tbody tr th:only-of-type {\n",
       "        vertical-align: middle;\n",
       "    }\n",
       "\n",
       "    .dataframe tbody tr th {\n",
       "        vertical-align: top;\n",
       "    }\n",
       "\n",
       "    .dataframe thead th {\n",
       "        text-align: right;\n",
       "    }\n",
       "</style>\n",
       "<table border=\"1\" class=\"dataframe\">\n",
       "  <thead>\n",
       "    <tr style=\"text-align: right;\">\n",
       "      <th></th>\n",
       "      <th>Day_Of_Year</th>\n",
       "      <th>TT_16</th>\n",
       "      <th>PYNM_02</th>\n",
       "      <th>TT_11</th>\n",
       "      <th>FT_02</th>\n",
       "      <th>Wind_Velocity</th>\n",
       "      <th>HG_ARRAY_02</th>\n",
       "    </tr>\n",
       "  </thead>\n",
       "  <tbody>\n",
       "    <tr>\n",
       "      <th>count</th>\n",
       "      <td>282.000000</td>\n",
       "      <td>282.000000</td>\n",
       "      <td>282.000000</td>\n",
       "      <td>282.000000</td>\n",
       "      <td>282.000000</td>\n",
       "      <td>282.000000</td>\n",
       "      <td>282.000000</td>\n",
       "    </tr>\n",
       "    <tr>\n",
       "      <th>mean</th>\n",
       "      <td>187.464539</td>\n",
       "      <td>39.064041</td>\n",
       "      <td>230.114467</td>\n",
       "      <td>46.405534</td>\n",
       "      <td>17.799943</td>\n",
       "      <td>4.912422</td>\n",
       "      <td>2649.707232</td>\n",
       "    </tr>\n",
       "    <tr>\n",
       "      <th>std</th>\n",
       "      <td>100.471985</td>\n",
       "      <td>5.766133</td>\n",
       "      <td>99.854351</td>\n",
       "      <td>6.360702</td>\n",
       "      <td>3.054984</td>\n",
       "      <td>1.223778</td>\n",
       "      <td>680.453999</td>\n",
       "    </tr>\n",
       "    <tr>\n",
       "      <th>min</th>\n",
       "      <td>18.000000</td>\n",
       "      <td>18.861726</td>\n",
       "      <td>4.465026</td>\n",
       "      <td>22.902206</td>\n",
       "      <td>0.067164</td>\n",
       "      <td>1.406304</td>\n",
       "      <td>621.765999</td>\n",
       "    </tr>\n",
       "    <tr>\n",
       "      <th>25%</th>\n",
       "      <td>97.250000</td>\n",
       "      <td>34.653493</td>\n",
       "      <td>156.205326</td>\n",
       "      <td>41.901825</td>\n",
       "      <td>18.680749</td>\n",
       "      <td>4.015822</td>\n",
       "      <td>2314.020512</td>\n",
       "    </tr>\n",
       "    <tr>\n",
       "      <th>50%</th>\n",
       "      <td>179.500000</td>\n",
       "      <td>39.816585</td>\n",
       "      <td>216.148176</td>\n",
       "      <td>47.281623</td>\n",
       "      <td>18.819865</td>\n",
       "      <td>4.857113</td>\n",
       "      <td>2805.310086</td>\n",
       "    </tr>\n",
       "    <tr>\n",
       "      <th>75%</th>\n",
       "      <td>269.750000</td>\n",
       "      <td>43.174861</td>\n",
       "      <td>315.349594</td>\n",
       "      <td>50.781771</td>\n",
       "      <td>18.877900</td>\n",
       "      <td>5.727344</td>\n",
       "      <td>3164.011012</td>\n",
       "    </tr>\n",
       "    <tr>\n",
       "      <th>max</th>\n",
       "      <td>362.000000</td>\n",
       "      <td>59.021930</td>\n",
       "      <td>572.164179</td>\n",
       "      <td>71.519737</td>\n",
       "      <td>19.112013</td>\n",
       "      <td>9.324783</td>\n",
       "      <td>4396.358658</td>\n",
       "    </tr>\n",
       "  </tbody>\n",
       "</table>\n",
       "</div>"
      ],
      "text/plain": [
       "       Day_Of_Year       TT_16     PYNM_02       TT_11       FT_02  \\\n",
       "count   282.000000  282.000000  282.000000  282.000000  282.000000   \n",
       "mean    187.464539   39.064041  230.114467   46.405534   17.799943   \n",
       "std     100.471985    5.766133   99.854351    6.360702    3.054984   \n",
       "min      18.000000   18.861726    4.465026   22.902206    0.067164   \n",
       "25%      97.250000   34.653493  156.205326   41.901825   18.680749   \n",
       "50%     179.500000   39.816585  216.148176   47.281623   18.819865   \n",
       "75%     269.750000   43.174861  315.349594   50.781771   18.877900   \n",
       "max     362.000000   59.021930  572.164179   71.519737   19.112013   \n",
       "\n",
       "       Wind_Velocity  HG_ARRAY_02  \n",
       "count     282.000000   282.000000  \n",
       "mean        4.912422  2649.707232  \n",
       "std         1.223778   680.453999  \n",
       "min         1.406304   621.765999  \n",
       "25%         4.015822  2314.020512  \n",
       "50%         4.857113  2805.310086  \n",
       "75%         5.727344  3164.011012  \n",
       "max         9.324783  4396.358658  "
      ]
     },
     "execution_count": 3,
     "metadata": {},
     "output_type": "execute_result"
    }
   ],
   "source": [
    "dft = df.copy()\n",
    "dft.drop(dft[dft.isnull().sum(axis = 1) > 3].index, axis = 0, inplace = True)\n",
    "dft.drop(dft[dft['HG_ARRAY_02'].isnull()].index, axis = 0, inplace = True)\n",
    "dft.drop(dft[dft['HG_ARRAY_02'] < 500].index, axis = 0, inplace = True)\n",
    "dft.drop(dft[dft['Wind_Velocity'] > 10].index, axis = 0, inplace = True)\n",
    "for index, row in dft[dft['Wind_Velocity'].isnull()].iterrows():\n",
    "    dft.loc[index, 'Wind_Velocity'] = np.random.normal(dft['Wind_Velocity'].mean(), dft['Wind_Velocity'].std())\n",
    "for index, row in dft[dft['TT_16'].isnull()].iterrows():\n",
    "    dft.loc[index, 'TT_16'] = dft.loc[index, 'TT_11'] + np.random.normal((dft['TT_16'] - dft['TT_11']).mean(), (dft['TT_16'] - dft['TT_11']).std())\n",
    "for index, row in dft[dft['PYNM_02'].isnull()].iterrows():\n",
    "    dft.loc[index, 'PYNM_02'] = np.random.normal(dft['PYNM_02'].mean(), dft['PYNM_02'].std())\n",
    "print('Shape:', dft.shape)\n",
    "dft.describe()"
   ]
  },
  {
   "cell_type": "code",
   "execution_count": null,
   "metadata": {
    "scrolled": true
   },
   "outputs": [],
   "source": [
    "for i in range(5):\n",
    "    sns.set_style(\"darkgrid\")\n",
    "    sns.FacetGrid(dft, hue = None, height = 5)\\\n",
    "        .map(plt.scatter, df.columns[i + 2], \"HG_ARRAY_02\")\\\n",
    "        .add_legend()\n",
    "    plt.show()"
   ]
  },
  {
   "cell_type": "code",
   "execution_count": null,
   "metadata": {
    "scrolled": true
   },
   "outputs": [],
   "source": [
    "dft.loc[:, 'TT_16':].plot(kind = 'box', subplots = True, figsize = (20, 8))"
   ]
  },
  {
   "cell_type": "markdown",
   "metadata": {},
   "source": [
    "# Linear Regression"
   ]
  },
  {
   "cell_type": "code",
   "execution_count": 56,
   "metadata": {
    "scrolled": false
   },
   "outputs": [
    {
     "name": "stdout",
     "output_type": "stream",
     "text": [
      "TRAINING\n",
      "--------\n",
      "Root Mean Square Error (Training): 342.6956919285033\n",
      "R-square Score (Training): 0.7261438365606145\n"
     ]
    },
    {
     "data": {
      "image/png": "[encoded data removed]",
      "text/plain": [
       "<Figure size 432x288 with 1 Axes>"
      ]
     },
     "metadata": {
      "needs_background": "light"
     },
     "output_type": "display_data"
    },
    {
     "name": "stdout",
     "output_type": "stream",
     "text": [
      "x-axis: Actual value, y-axis: Predicted value\n",
      "\n",
      "\n",
      "TESTING\n",
      "-------\n",
      "Root Mean Square Error (Testing): 675.5022638469308\n",
      "R-square Score (Testing): 0.22635069837272737\n"
     ]
    },
    {
     "data": {
      "image/png": "[encoded data removed]",
      "text/plain": [
       "<Figure size 432x288 with 1 Axes>"
      ]
     },
     "metadata": {
      "needs_background": "light"
     },
     "output_type": "display_data"
    },
    {
     "name": "stdout",
     "output_type": "stream",
     "text": [
      "x-axis: Actual value, y-axis: Predicted value\n"
     ]
    }
   ],
   "source": [
    "from sklearn.linear_model import LinearRegression\n",
    "from sklearn.metrics import mean_squared_error, r2_score\n",
    "from sklearn.model_selection import train_test_split\n",
    "ds = dft.values\n",
    "traindata, testdata, trainanswers, testanswers = train_test_split(\n",
    "    dft.iloc[:, 2:7], dft.iloc[:, 7], test_size = 0.2, random_state = 0)\n",
    "model = LinearRegression()\n",
    "model.fit(traindata, trainanswers)\n",
    "trainpredictions = model.predict(traindata)\n",
    "trainmse, trainr2 = mean_squared_error(trainanswers, trainpredictions), r2_score(trainanswers, trainpredictions)\n",
    "print('TRAINING')\n",
    "print('--------')\n",
    "print('Root Mean Square Error (Training):', np.sqrt(trainmse))\n",
    "print('R-square Score (Training):', trainr2)\n",
    "plt.scatter(trainanswers, trainpredictions, s = 8)\n",
    "plt.plot([0, 4500], [0, 4500])\n",
    "plt.show()\n",
    "print('x-axis: Actual value, y-axis: Predicted value')\n",
    "testpredictions = model.predict(testdata)\n",
    "testmse, testr2 = mean_squared_error(testanswers, testpredictions), r2_score(testanswers, testpredictions)\n",
    "print('\\n\\nTESTING')\n",
    "print('-------')\n",
    "print('Root Mean Square Error (Testing):', np.sqrt(testmse))\n",
    "print('R-square Score (Testing):', testr2)\n",
    "plt.scatter(testanswers, testpredictions, s = 8)\n",
    "plt.plot([0, 4500], [0, 4500])\n",
    "plt.show()\n",
    "print('x-axis: Actual value, y-axis: Predicted value')"
   ]
  },
  {
   "cell_type": "markdown",
   "metadata": {},
   "source": [
    "# KNN"
   ]
  },
  {
   "cell_type": "code",
   "execution_count": 20,
   "metadata": {
    "scrolled": false
   },
   "outputs": [
    {
     "name": "stdout",
     "output_type": "stream",
     "text": [
      "Root Mean Square Error (Testing):\n",
      "\tfor K = 1 : 698.8666920259498\n",
      "\tfor K = 2 : 649.9096755721241\n",
      "\tfor K = 3 : 640.3626940216718\n",
      "\tfor K = 4 : 645.7554947792161\n",
      "\tfor K = 5 : 649.6452791949845\n",
      "\tfor K = 6 : 647.2206070002163\n",
      "\tfor K = 7 : 654.1615788679045\n",
      "\tfor K = 8 : 639.120895642908\n",
      "\tfor K = 9 : 642.6852429197768\n",
      "\tfor K = 10 : 638.9926778891238\n",
      "\tfor K = 11 : 641.105485773262\n",
      "\tfor K = 12 : 641.4419118005729\n",
      "\tfor K = 13 : 643.9315253207278\n",
      "\tfor K = 14 : 654.7078227211779\n",
      "\tfor K = 15 : 701.6890228311305\n"
     ]
    }
   ],
   "source": [
    "ds = dft.values\n",
    "traindata, trainanswers, testdata, testanswers = ds[:100, 2:7], ds[:100, 7], ds[100:, 2:7], ds[100:, 7]\n",
    "def distance(d1, d2):\n",
    "    dist = 0\n",
    "    for i in range(len(d1)):\n",
    "        dist += np.square(d1[i] - d2[i])\n",
    "    return dist\n",
    "print('Root Mean Square Error (Testing):')\n",
    "for k in range(1, 16):\n",
    "    testpredictions = []\n",
    "    for i in range(len(testdata)):\n",
    "        distances = []\n",
    "        for j in range(len(traindata)):\n",
    "            distances += [[j, distance(traindata[j], testdata[i])]]\n",
    "        sorteddistances = sorted(distances, key = lambda l: l[1])\n",
    "        answer = 0\n",
    "        for j in range(k):\n",
    "            answer += trainanswers[sorteddistances[j][0]]\n",
    "        testpredictions += [answer / k]\n",
    "    rmse = 0\n",
    "    for i in range(len(testanswers)):\n",
    "        rmse += np.square(testanswers[i] - testpredictions[i])\n",
    "    rmse /= len(testanswers)\n",
    "    rmse = np.sqrt(rmse)\n",
    "    print('\\tfor K =', k, ':', rmse)"
   ]
  },
  {
   "cell_type": "markdown",
   "metadata": {},
   "source": [
    "# Quadratic Regression"
   ]
  },
  {
   "cell_type": "code",
   "execution_count": 57,
   "metadata": {
    "scrolled": false
   },
   "outputs": [
    {
     "name": "stdout",
     "output_type": "stream",
     "text": [
      "TRAINING\n",
      "--------\n",
      "Root Mean Square Error (Training): 304.0541570919622\n",
      "R-square Score (Training): 0.7251738254356332\n"
     ]
    },
    {
     "data": {
      "image/png": "[encoded data removed]",
      "text/plain": [
       "<Figure size 432x288 with 1 Axes>"
      ]
     },
     "metadata": {
      "needs_background": "light"
     },
     "output_type": "display_data"
    },
    {
     "name": "stdout",
     "output_type": "stream",
     "text": [
      "TESTING\n",
      "-------\n",
      "Root Mean Square Error (Training): 652.4675697066646\n",
      "R-square Score (Training): 0.1959515428644606\n"
     ]
    },
    {
     "data": {
      "image/png": "[encoded data removed]",
      "text/plain": [
       "<Figure size 432x288 with 1 Axes>"
      ]
     },
     "metadata": {
      "needs_background": "light"
     },
     "output_type": "display_data"
    }
   ],
   "source": [
    "from sklearn.linear_model import LinearRegression\n",
    "from sklearn.metrics import mean_squared_error, r2_score\n",
    "from sklearn.preprocessing import PolynomialFeatures\n",
    "from sklearn.model_selection import train_test_split\n",
    "ds = dft.values\n",
    "traindata, testdata, trainanswers, testanswers = train_test_split(\n",
    "    dft.iloc[:, 2:7], dft.iloc[:, 7], test_size = 0.2, random_state = 0)\n",
    "polytraindata, polytestdata = PolynomialFeatures(degree = 2).fit_transform(traindata), PolynomialFeatures(degree = 2).fit_transform(testdata)\n",
    "model = LinearRegression()\n",
    "model.fit(polytraindata, trainanswers)\n",
    "polypredictions = model.predict(polytraindata)\n",
    "trainrmse, trainr2 = np.sqrt(mean_squared_error(polypredictions, trainanswers)), r2_score(polypredictions, trainanswers)\n",
    "print('TRAINING')\n",
    "print('--------')\n",
    "print('Root Mean Square Error (Training):', trainrmse)\n",
    "print('R-square Score (Training):', trainr2)\n",
    "plt.scatter(trainanswers, polypredictions, s = 8)\n",
    "plt.plot([0, 4500], [0, 4500])\n",
    "plt.show()\n",
    "polypredictions = model.predict(polytestdata)\n",
    "testrmse, testr2 = np.sqrt(mean_squared_error(polypredictions, testanswers)), r2_score(polypredictions, testanswers)\n",
    "print('TESTING')\n",
    "print('-------')\n",
    "print('Root Mean Square Error (Training):', testrmse)\n",
    "print('R-square Score (Training):', testr2)\n",
    "plt.scatter(testanswers, polypredictions, s = 8)\n",
    "plt.plot([0, 4500], [0, 4500])\n",
    "plt.show()"
   ]
  },
  {
   "cell_type": "markdown",
   "metadata": {},
   "source": [
    "   # Neural Network"
   ]
  },
  {
   "cell_type": "code",
   "execution_count": null,
   "metadata": {
    "scrolled": false
   },
   "outputs": [],
   "source": [
    "from sklearn.neural_network import MLPRegressor\n",
    "from sklearn.metrics import mean_squared_error, r2_score\n",
    "ds = dft.values\n",
    "data, answers = ds[:, 2:7], ds[:, 7]\n",
    "st = time.time()\n",
    "model = MLPRegressor(hidden_layer_sizes = (10, 8,),\n",
    "                     learning_rate = 'adaptive',\n",
    "                     max_iter = 50000,\n",
    "                     verbose = False,\n",
    "                     early_stopping = True,\n",
    "                     validation_fraction = 0.2,\n",
    "                     n_iter_no_change = 1000)\n",
    "model.fit(data, answers)\n",
    "et = time.time()\n",
    "predictions = model.predict(data)\n",
    "mse, r2 = mean_squared_error(answers, predictions), r2_score(answers, predictions)\n",
    "print('Iterations:', model.n_iter_)\n",
    "print('Time Taken:', et - st, 'seconds')\n",
    "print('Rate:', model.n_iter_ / (et - st), 'iterations per seconds')\n",
    "print('Root Mean Square Error:', np.sqrt(mse))\n",
    "print('R-square Score:', r2)\n",
    "plt.scatter(answers, predictions, s = 8)\n",
    "plt.plot([0, 4500], [0, 4500])\n",
    "plt.show()4\n",
    "print('x-axis: Actual value, y-axis: Predicted value')"
   ]
  },
  {
   "cell_type": "code",
   "execution_count": 4,
   "metadata": {},
   "outputs": [],
   "source": [
    "mydflist = []\n",
    "parameters = []"
   ]
  },
  {
   "cell_type": "code",
   "execution_count": null,
   "metadata": {
    "scrolled": true
   },
   "outputs": [],
   "source": [
    "from sklearn.neural_network import MLPRegressor\n",
    "from sklearn.metrics import mean_squared_error, r2_score\n",
    "import pickle\n",
    "ds = dft.values\n",
    "data, answers = ds[100:, 2:7], ds[100:, 7]\n",
    "for [n1, n2] in ([8, 9], [9, 6]):\n",
    "    print('Starting for n1 =', n1, 'and n2 =', n2, end = '.\\n')\n",
    "    while True:\n",
    "        #for i in range(1):\n",
    "            st = time.time()\n",
    "            model = MLPRegressor(hidden_layer_sizes = (n1, n2,),\n",
    "                                 learning_rate = 'adaptive',\n",
    "                                 max_iter = 100000,\n",
    "                                 verbose = False,\n",
    "                                 early_stopping = True,\n",
    "                                 validation_fraction = 0.2,\n",
    "                                 n_iter_no_change = 10000)\n",
    "            model.fit(data, answers)\n",
    "            et = time.time()\n",
    "            predictions = model.predict(data)\n",
    "            mse, r2 = mean_squared_error(answers, predictions), r2_score(answers, predictions)\n",
    "            mydflist += [[n1, n2, 'adaptive', model.n_iter_, np.sqrt(mse), r2, et - st]]\n",
    "            print('Done.')\n",
    "            print('RMSE value:', np.sqrt(mse))\n",
    "            print('r2 value:', r2)\n",
    "            print('Number of iterations:', model.n_iter_)\n",
    "            if r2 >= 0.75:\n",
    "                plt.scatter(predictions, answers - predictions, s = 8)\n",
    "                plt.plot([0, 4500], [0, 0])\n",
    "                plt.show()\n",
    "                parameters += [[n1, n2, r2, model.coefs_, model.intercepts_]]\n",
    "            if r2 >= 0.75:\n",
    "                pickle.dump(model, open('model4' + str(n1) + str(n2) + '.nnm', 'wb'))\n",
    "                break    "
   ]
  },
  {
   "cell_type": "code",
   "execution_count": null,
   "metadata": {
    "scrolled": true
   },
   "outputs": [],
   "source": [
    "ds = dft.values\n",
    "traindata, trainanswers = ds[100:, 2:7], ds[100:, 7]\n",
    "testdata, testanswers = ds[:100, 2:7], ds[:100, 7]\n",
    "loaded_model = pickle.load(open('model489.nnm', 'rb'))\n",
    "trainpredictions = loaded_model.predict(traindata)\n",
    "testpredictions = loaded_model.predict(testdata)\n",
    "print('r2 value (training):', r2_score(trainanswers, trainpredictions))\n",
    "print('r2 value (testing):', r2_score(testanswers, testpredictions))\n",
    "plt.scatter(trainpredictions, trainanswers - trainpredictions, s = 8)\n",
    "plt.scatter(testpredictions, testanswers - testpredictions, s = 8)\n",
    "plt.plot([0, 4500], [0, 0])\n",
    "plt.plot([0, 4500], [1000, 1000])\n",
    "plt.plot([0, 4500], [-1000, -1000])\n",
    "plt.show()\n",
    "loaded_model = pickle.load(open('model496.nnm', 'rb'))\n",
    "trainpredictions = loaded_model.predict(traindata)\n",
    "testpredictions = loaded_model.predict(testdata)\n",
    "print('r2 value (training):', r2_score(trainanswers, trainpredictions))\n",
    "print('r2 value (testing):', r2_score(testanswers, testpredictions))\n",
    "plt.scatter(trainpredictions, trainanswers - trainpredictions, s = 8)\n",
    "plt.scatter(testpredictions, testanswers - testpredictions, s = 8)\n",
    "plt.plot([0, 4500], [0, 0])\n",
    "plt.plot([0, 4500], [1000, 1000])\n",
    "plt.plot([0, 4500], [-1000, -1000])\n",
    "plt.show()\n",
    "print(mydf.sort_values('r2'))"
   ]
  },
  {
   "cell_type": "code",
   "execution_count": null,
   "metadata": {
    "scrolled": true
   },
   "outputs": [],
   "source": []
  },
  {
   "cell_type": "code",
   "execution_count": null,
   "metadata": {
    "scrolled": true
   },
   "outputs": [],
   "source": []
  },
  {
   "cell_type": "code",
   "execution_count": null,
   "metadata": {
    "scrolled": true
   },
   "outputs": [],
   "source": []
  },
  {
   "cell_type": "code",
   "execution_count": 51,
   "metadata": {
    "scrolled": true
   },
   "outputs": [
    {
     "name": "stdout",
     "output_type": "stream",
     "text": [
      "Starting for n1 = 9 and n2 = 6.\n",
      "Done iteration 0\n",
      "Number of iterations: 27912\n",
      "r2 value (train): 0.7284309357754001\n",
      "r2 value (test): 0.516688440277616\n",
      "Done iteration 1\n",
      "Number of iterations: 31776\n",
      "r2 value (train): 0.7495284993342154\n",
      "r2 value (test): 0.3426400837228082\n",
      "Done iteration 2\n",
      "Number of iterations: 20125\n",
      "r2 value (train): -18.559999125224735\n",
      "r2 value (test): -11.569314923935753\n",
      "Done iteration 3\n",
      "Number of iterations: 34100\n",
      "r2 value (train): 0.6808512107851048\n",
      "r2 value (test): 0.6547675754016593\n",
      "Done iteration 4\n",
      "Number of iterations: 34673\n",
      "r2 value (train): 0.7408840113234499\n",
      "r2 value (test): 0.6007173888934116\n",
      "Done iteration 5\n",
      "Number of iterations: 36277\n",
      "r2 value (train): 0.7425678740051029\n",
      "r2 value (test): 0.6666772482480596\n",
      "Done iteration 6\n",
      "Number of iterations: 41453\n",
      "r2 value (train): 0.6778644520417878\n",
      "r2 value (test): 0.6014153499385362\n"
     ]
    },
    {
     "name": "stderr",
     "output_type": "stream",
     "text": [
      "/home/subodhsondkar/anaconda3/lib/python3.7/site-packages/sklearn/neural_network/multilayer_perceptron.py:562: ConvergenceWarning: Stochastic Optimizer: Maximum iterations (50000) reached and the optimization hasn't converged yet.\n",
      "  % self.max_iter, ConvergenceWarning)\n"
     ]
    },
    {
     "name": "stdout",
     "output_type": "stream",
     "text": [
      "Done iteration 7\n",
      "Number of iterations: 50000\n",
      "r2 value (train): 0.7422622730628425\n",
      "r2 value (test): 0.5043365321325922\n",
      "Done iteration 8\n",
      "Number of iterations: 42421\n",
      "r2 value (train): 0.7683901282254736\n",
      "r2 value (test): 0.6099286477010128\n",
      "Done iteration 9\n",
      "Number of iterations: 39677\n",
      "r2 value (train): 0.723060981834494\n",
      "r2 value (test): 0.597786626546154\n"
     ]
    },
    {
     "name": "stderr",
     "output_type": "stream",
     "text": [
      "/home/subodhsondkar/anaconda3/lib/python3.7/site-packages/sklearn/neural_network/multilayer_perceptron.py:562: ConvergenceWarning: Stochastic Optimizer: Maximum iterations (50000) reached and the optimization hasn't converged yet.\n",
      "  % self.max_iter, ConvergenceWarning)\n"
     ]
    },
    {
     "name": "stdout",
     "output_type": "stream",
     "text": [
      "Done iteration 10\n",
      "Number of iterations: 50000\n",
      "r2 value (train): 0.7325413203403139\n",
      "r2 value (test): 0.6383893138704566\n",
      "Done iteration 11\n",
      "Number of iterations: 46249\n",
      "r2 value (train): 0.7442742237393842\n",
      "r2 value (test): 0.5400602456906662\n"
     ]
    },
    {
     "name": "stderr",
     "output_type": "stream",
     "text": [
      "/home/subodhsondkar/anaconda3/lib/python3.7/site-packages/sklearn/neural_network/multilayer_perceptron.py:562: ConvergenceWarning: Stochastic Optimizer: Maximum iterations (50000) reached and the optimization hasn't converged yet.\n",
      "  % self.max_iter, ConvergenceWarning)\n"
     ]
    },
    {
     "name": "stdout",
     "output_type": "stream",
     "text": [
      "Done iteration 12\n",
      "Number of iterations: 50000\n",
      "r2 value (train): 0.8276912519199713\n",
      "r2 value (test): 0.41061996632152864\n"
     ]
    },
    {
     "name": "stderr",
     "output_type": "stream",
     "text": [
      "/home/subodhsondkar/anaconda3/lib/python3.7/site-packages/sklearn/neural_network/multilayer_perceptron.py:562: ConvergenceWarning: Stochastic Optimizer: Maximum iterations (50000) reached and the optimization hasn't converged yet.\n",
      "  % self.max_iter, ConvergenceWarning)\n"
     ]
    },
    {
     "name": "stdout",
     "output_type": "stream",
     "text": [
      "Done iteration 13\n",
      "Number of iterations: 50000\n",
      "r2 value (train): 0.7462595080776495\n",
      "r2 value (test): 0.5254767960032831\n",
      "Done iteration 14\n",
      "Number of iterations: 41446\n",
      "r2 value (train): 0.676758613113291\n",
      "r2 value (test): 0.5101645732301829\n",
      "Done iteration 15\n",
      "Number of iterations: 36950\n",
      "r2 value (train): 0.6891696762893487\n",
      "r2 value (test): 0.5808468055848567\n"
     ]
    },
    {
     "name": "stderr",
     "output_type": "stream",
     "text": [
      "/home/subodhsondkar/anaconda3/lib/python3.7/site-packages/sklearn/neural_network/multilayer_perceptron.py:562: ConvergenceWarning: Stochastic Optimizer: Maximum iterations (50000) reached and the optimization hasn't converged yet.\n",
      "  % self.max_iter, ConvergenceWarning)\n"
     ]
    },
    {
     "name": "stdout",
     "output_type": "stream",
     "text": [
      "Done iteration 16\n",
      "Number of iterations: 50000\n",
      "r2 value (train): 0.7910033442761728\n",
      "r2 value (test): 0.40062571204527775\n",
      "Done iteration 17\n",
      "Number of iterations: 33146\n",
      "r2 value (train): 0.5921478768212943\n",
      "r2 value (test): 0.5158546587239694\n"
     ]
    },
    {
     "name": "stderr",
     "output_type": "stream",
     "text": [
      "/home/subodhsondkar/anaconda3/lib/python3.7/site-packages/sklearn/neural_network/multilayer_perceptron.py:562: ConvergenceWarning: Stochastic Optimizer: Maximum iterations (50000) reached and the optimization hasn't converged yet.\n",
      "  % self.max_iter, ConvergenceWarning)\n"
     ]
    },
    {
     "name": "stdout",
     "output_type": "stream",
     "text": [
      "Done iteration 18\n",
      "Number of iterations: 50000\n",
      "r2 value (train): 0.7802835905798937\n",
      "r2 value (test): 0.47874703760364345\n",
      "Done iteration 19\n",
      "Number of iterations: 39925\n",
      "r2 value (train): 0.6758636788477566\n",
      "r2 value (test): 0.5823207376863662\n"
     ]
    }
   ],
   "source": [
    "from sklearn.neural_network import MLPRegressor\n",
    "from sklearn.metrics import mean_squared_error, r2_score\n",
    "from sklearn.model_selection import train_test_split\n",
    "import pickle\n",
    "ds = dft.values\n",
    "traindata, testdata, trainanswers, testanswers = train_test_split(\n",
    "    dft.iloc[:, 2:7], dft.iloc[:, 7], test_size = 0.4, random_state = 0)\n",
    "print('Starting for n1 =', n1, 'and n2 =', n2, end = '.\\n')\n",
    "for i in range(20):\n",
    "            st = time.time()\n",
    "            model = MLPRegressor(hidden_layer_sizes = (9, 6,),\n",
    "                                 learning_rate = 'adaptive',\n",
    "                                 max_iter = 50000,\n",
    "                                 verbose = False,\n",
    "                                 early_stopping = True,\n",
    "                                 validation_fraction = 0.2,\n",
    "                                 n_iter_no_change = 20000)\n",
    "            model.fit(traindata, trainanswers)\n",
    "            et = time.time()\n",
    "            trainpredictions = model.predict(traindata)\n",
    "            trainr2 = r2_score(trainanswers, trainpredictions)\n",
    "            print('Done iteration', i)\n",
    "            print('Number of iterations:', model.n_iter_)\n",
    "            print('r2 value (train):', trainr2)\n",
    "            testpredictions = model.predict(testdata)\n",
    "            testr2 = r2_score(testanswers, testpredictions)\n",
    "            print('r2 value (test):', testr2)\n",
    "            mydflist += [[9, 6, trainr2, testr2, et - st]]"
   ]
  },
  {
   "cell_type": "code",
   "execution_count": 54,
   "metadata": {},
   "outputs": [
    {
     "data": {
      "image/png": "[encoded data removed]",
      "text/plain": [
       "<Figure size 432x288 with 1 Axes>"
      ]
     },
     "metadata": {
      "needs_background": "light"
     },
     "output_type": "display_data"
    },
    {
     "name": "stdout",
     "output_type": "stream",
     "text": [
      "     HL1  HL2   trainr2    testr2       time\n",
      "5      8    9  0.786962  0.330660  43.326119\n",
      "121    9    6  0.749528  0.342640  29.427690\n",
      "88     9    6  0.767855  0.371136  48.285256\n",
      "82     9    6  0.785599  0.391201  49.337750\n",
      "136    9    6  0.791003  0.400626  45.599272\n",
      "132    9    6  0.827691  0.410620  46.214963\n",
      "85     9    6  0.476839  0.426354  17.807268\n",
      "0      8    9  0.826773  0.427654  37.505651\n",
      "7      8    9  0.742035  0.441868  49.603523\n",
      "59     8    9  0.510694  0.451195  23.106905\n",
      "71     9    6  0.671921  0.453467  36.102214\n",
      "100    9    6  0.749382  0.454671  48.399807\n",
      "51     8    9  0.758047  0.458117  52.024575\n",
      "18     9    6  0.677587  0.458305  41.308752\n",
      "38     8    9  0.749627  0.465788  28.805135\n",
      "34     8    9  0.523981  0.471762  20.229162\n",
      "12     9    6  0.531311  0.472886  20.236992\n",
      "33     8    9  0.748729  0.474105  40.188273\n",
      "22     8    9  0.738319  0.476525  32.441257\n",
      "6      8    9  0.751988  0.476678  33.018939\n",
      "32     8    9  0.748886  0.477940  49.804179\n",
      "138    9    6  0.780284  0.478747  47.201553\n",
      "31     8    9  0.740749  0.478954  43.758704\n",
      "62     8    9  0.705452  0.479128  54.317003\n",
      "16     9    6  0.753225  0.480235  42.715546\n",
      "112    9    6  0.748768  0.480826  34.683729\n",
      "53     8    9  0.715835  0.483276  44.007289\n",
      "111    9    6  0.788228  0.484491  45.637534\n",
      "29     9    6  0.742603  0.484870  34.771952\n",
      "106    9    6  0.736607  0.489029  51.210485\n",
      "..   ...  ...       ...       ...        ...\n",
      "3      8    9  0.771995  0.605189  45.549155\n",
      "81     9    6  0.713863  0.605715  29.223737\n",
      "47     9    6  0.708174  0.606910  31.207259\n",
      "102    9    6  0.732551  0.607222  35.015101\n",
      "4      8    9  0.656704  0.608535  31.812420\n",
      "128    9    6  0.768390  0.609929  40.625867\n",
      "75     9    6  0.669834  0.611221  30.343185\n",
      "8      8    9  0.680520  0.611672  33.627679\n",
      "107    9    6  0.682597  0.614569  35.825228\n",
      "83     9    6  0.682831  0.614595  30.459421\n",
      "19     9    6  0.670885  0.614856  31.727790\n",
      "114    9    6  0.743143  0.615472  30.776241\n",
      "94     8    9  0.672054  0.615964  29.650539\n",
      "39     8    9  0.678798  0.615991  45.952483\n",
      "35     8    9  0.682769  0.616721  48.792372\n",
      "74     9    6  0.719911  0.620985  34.951673\n",
      "76     9    6  0.792401  0.623696  39.696205\n",
      "30     8    9  0.736301  0.625778  30.560464\n",
      "58     8    9  0.709221  0.627421  37.106375\n",
      "63     8    9  0.686316  0.636594  40.980404\n",
      "104    9    6  0.684086  0.637500  34.380070\n",
      "130    9    6  0.732541  0.638389  45.012840\n",
      "20     8    9  0.749568  0.639835  43.069314\n",
      "37     8    9  0.781879  0.641432  39.330893\n",
      "10     9    6  0.763918  0.644878  30.268064\n",
      "13     9    6  0.695266  0.647525  30.399329\n",
      "2      8    9  0.773964  0.648759  44.664944\n",
      "123    9    6  0.680851  0.654768  31.167050\n",
      "115    9    6  0.736402  0.660014  43.274265\n",
      "125    9    6  0.742568  0.666677  30.691544\n",
      "\n",
      "[139 rows x 5 columns]\n"
     ]
    },
    {
     "data": {
      "text/html": [
       "<div>\n",
       "<style scoped>\n",
       "    .dataframe tbody tr th:only-of-type {\n",
       "        vertical-align: middle;\n",
       "    }\n",
       "\n",
       "    .dataframe tbody tr th {\n",
       "        vertical-align: top;\n",
       "    }\n",
       "\n",
       "    .dataframe thead th {\n",
       "        text-align: right;\n",
       "    }\n",
       "</style>\n",
       "<table border=\"1\" class=\"dataframe\">\n",
       "  <thead>\n",
       "    <tr style=\"text-align: right;\">\n",
       "      <th></th>\n",
       "      <th>HL2</th>\n",
       "      <th>trainr2</th>\n",
       "      <th>testr2</th>\n",
       "      <th>time</th>\n",
       "    </tr>\n",
       "    <tr>\n",
       "      <th>HL1</th>\n",
       "      <th></th>\n",
       "      <th></th>\n",
       "      <th></th>\n",
       "      <th></th>\n",
       "    </tr>\n",
       "  </thead>\n",
       "  <tbody>\n",
       "    <tr>\n",
       "      <th>8</th>\n",
       "      <td>9</td>\n",
       "      <td>0.709719</td>\n",
       "      <td>0.538098</td>\n",
       "      <td>37.479220</td>\n",
       "    </tr>\n",
       "    <tr>\n",
       "      <th>9</th>\n",
       "      <td>6</td>\n",
       "      <td>0.715571</td>\n",
       "      <td>0.547210</td>\n",
       "      <td>36.442561</td>\n",
       "    </tr>\n",
       "  </tbody>\n",
       "</table>\n",
       "</div>"
      ],
      "text/plain": [
       "     HL2   trainr2    testr2       time\n",
       "HL1                                    \n",
       "8      9  0.709719  0.538098  37.479220\n",
       "9      6  0.715571  0.547210  36.442561"
      ]
     },
     "execution_count": 54,
     "metadata": {},
     "output_type": "execute_result"
    }
   ],
   "source": [
    "mydf = pd.DataFrame(mydflist, columns = ['HL1', 'HL2', 'trainr2', 'testr2', 'time'])\n",
    "mydf.drop(mydf[mydf['testr2'] < 0].index, inplace = True)\n",
    "plt.scatter(mydf[mydf['HL1'] == 8]['time'], mydf[mydf['HL1'] == 8]['testr2'], s = 8)\n",
    "plt.scatter(mydf[mydf['HL1'] == 9]['time'], mydf[mydf['HL1'] == 9]['testr2'], s = 8)\n",
    "plt.show()\n",
    "print(mydf.sort_values('testr2'))\n",
    "mydf.groupby('HL1').mean()"
   ]
  }
 ],
 "metadata": {
  "kernelspec": {
   "display_name": "Python 3",
   "language": "python",
   "name": "python3"
  },
  "language_info": {
   "codemirror_mode": {
    "name": "ipython",
    "version": 3
   },
   "file_extension": ".py",
   "mimetype": "text/x-python",
   "name": "python",
   "nbconvert_exporter": "python",
   "pygments_lexer": "ipython3",
   "version": "3.7.3"
  }
 },
 "nbformat": 4,
 "nbformat_minor": 2
}
